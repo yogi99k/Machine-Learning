{
  "nbformat": 4,
  "nbformat_minor": 0,
  "metadata": {
    "colab": {
      "provenance": []
    },
    "kernelspec": {
      "name": "python3",
      "display_name": "Python 3"
    },
    "language_info": {
      "name": "python"
    }
  },
  "cells": [
    {
      "cell_type": "markdown",
      "source": [
        "\n",
        "\n",
        "\n",
        "\n",
        "\n",
        "\n",
        "\n"
      ],
      "metadata": {
        "id": "v9OkH2oUY2dQ"
      }
    },
    {
      "cell_type": "code",
      "execution_count": 1,
      "metadata": {
        "colab": {
          "base_uri": "https://localhost:8080/",
          "height": 0
        },
        "id": "Ro6hYkJdhWDN",
        "outputId": "387858bb-c2b8-4ce2-e166-014feaaa7194"
      },
      "outputs": [
        {
          "output_type": "stream",
          "name": "stdout",
          "text": [
            "Downloading data from https://storage.googleapis.com/tensorflow/tf-keras-datasets/mnist.npz\n",
            "11490434/11490434 [==============================] - 0s 0us/step\n",
            "Epoch 1/10\n",
            "375/375 [==============================] - 24s 60ms/step - loss: 0.3984 - accuracy: 0.8810 - val_loss: 0.1211 - val_accuracy: 0.9642\n",
            "Epoch 2/10\n",
            "375/375 [==============================] - 16s 44ms/step - loss: 0.1014 - accuracy: 0.9678 - val_loss: 0.0828 - val_accuracy: 0.9765\n",
            "Epoch 3/10\n",
            "375/375 [==============================] - 17s 46ms/step - loss: 0.0755 - accuracy: 0.9763 - val_loss: 0.0785 - val_accuracy: 0.9765\n",
            "Epoch 4/10\n",
            "375/375 [==============================] - 16s 44ms/step - loss: 0.0588 - accuracy: 0.9817 - val_loss: 0.0578 - val_accuracy: 0.9838\n",
            "Epoch 5/10\n",
            "375/375 [==============================] - 16s 44ms/step - loss: 0.0476 - accuracy: 0.9851 - val_loss: 0.0545 - val_accuracy: 0.9832\n",
            "Epoch 6/10\n",
            "375/375 [==============================] - 17s 46ms/step - loss: 0.0444 - accuracy: 0.9858 - val_loss: 0.0541 - val_accuracy: 0.9838\n",
            "Epoch 7/10\n",
            "375/375 [==============================] - 16s 44ms/step - loss: 0.0343 - accuracy: 0.9888 - val_loss: 0.0515 - val_accuracy: 0.9840\n",
            "Epoch 8/10\n",
            "375/375 [==============================] - 16s 44ms/step - loss: 0.0321 - accuracy: 0.9895 - val_loss: 0.0473 - val_accuracy: 0.9861\n",
            "Epoch 9/10\n",
            "375/375 [==============================] - 18s 49ms/step - loss: 0.0276 - accuracy: 0.9911 - val_loss: 0.0506 - val_accuracy: 0.9839\n",
            "Epoch 10/10\n",
            "375/375 [==============================] - 17s 44ms/step - loss: 0.0255 - accuracy: 0.9915 - val_loss: 0.0546 - val_accuracy: 0.9837\n",
            "313/313 [==============================] - 3s 8ms/step - loss: 0.0434 - accuracy: 0.9883\n",
            "Test Loss: 0.043441761285066605\n",
            "Test Accuracy: 0.9883000254631042\n"
          ]
        }
      ],
      "source": [
        "import numpy as np\n",
        "import tensorflow as tf\n",
        "from tensorflow.keras import layers, models\n",
        "from tensorflow.keras.datasets import mnist\n",
        "from sklearn.model_selection import train_test_split\n",
        "\n",
        "# Step 1: Data Preparation\n",
        "(x_train, y_train), (x_test, y_test) = mnist.load_data()\n",
        "\n",
        "# Normalize pixel values to between 0 and 1\n",
        "x_train, x_test = x_train / 255.0, x_test / 255.0\n",
        "\n",
        "# Reshape data to fit the LeNet-5 architecture (28x28 images)\n",
        "x_train = x_train.reshape((-1, 28, 28, 1))\n",
        "x_test = x_test.reshape((-1, 28, 28, 1))\n",
        "\n",
        "# One-hot encode the labels\n",
        "y_train = tf.keras.utils.to_categorical(y_train, 10)\n",
        "y_test = tf.keras.utils.to_categorical(y_test, 10)\n",
        "\n",
        "# Step 2: Model Construction (LeNet-5)\n",
        "model = models.Sequential([\n",
        "    layers.Conv2D(6, kernel_size=(5, 5), strides=(1, 1), activation='relu', input_shape=(28, 28, 1)),\n",
        "    layers.MaxPooling2D(pool_size=(2, 2), strides=(2, 2)),\n",
        "    layers.Conv2D(16, kernel_size=(5, 5), strides=(1, 1), activation='relu'),\n",
        "    layers.MaxPooling2D(pool_size=(2, 2), strides=(2, 2)),\n",
        "    layers.Flatten(),\n",
        "    layers.Dense(120, activation='relu'),\n",
        "    layers.Dense(84, activation='relu'),\n",
        "    layers.Dense(10, activation='softmax')\n",
        "])\n",
        "\n",
        "model.compile(optimizer='adam',\n",
        "              loss='categorical_crossentropy',\n",
        "              metrics=['accuracy'])\n",
        "\n",
        "# Step 3: Model Training\n",
        "history = model.fit(x_train, y_train, epochs=10, batch_size=128, validation_split=0.2)\n",
        "\n",
        "# Step 4: Evaluation\n",
        "test_loss, test_accuracy = model.evaluate(x_test, y_test)\n",
        "\n",
        "print(\"Test Loss:\", test_loss)\n",
        "print(\"Test Accuracy:\", test_accuracy)"
      ]
    }
  ]
}